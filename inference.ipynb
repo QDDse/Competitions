{
 "cells": [
  {
   "cell_type": "code",
   "execution_count": 1,
   "id": "f7bf9443-4820-4d9b-8a5c-1948b01a8cfa",
   "metadata": {},
   "outputs": [
    {
     "name": "stdout",
     "output_type": "stream",
     "text": [
      "...........................................................................\n",
      "...param: traindir: ../train/labeled_data/\n",
      "...param: train_metadir: ../\n",
      "...param: train_metafile: train_label.csv\n",
      "...param: testdir: ../test\n",
      "...param: test_metadir: None\n",
      "...param: test_metafile: None\n",
      "...param: epochs: 10\n",
      "...param: num_workers: 4\n",
      "...param: batch_size: 64\n",
      "...param: lr: 0.1\n",
      "...param: weight_decay: 1e-05\n",
      "...param: num_classes: 2\n",
      "...param: step_size: 5\n",
      "...param: gamma: 0.9\n",
      "...param: ckpt_name: None\n",
      "...param: submission_name: submission.csv\n",
      "...param: model_name: None\n",
      "...param: kfold: 5\n",
      "...param: device: cuda\n",
      "...param: resultdir: ./result\n",
      "...........................................................................\n"
     ]
    }
   ],
   "source": [
    "import os\n",
    "from glob import glob\n",
    "import torch\n",
    "import torch.nn as nn\n",
    "from torchvision import models as M\n",
    "import time\n",
    "import csv\n",
    "from PIL import Image\n",
    "from tqdm.notebook import tqdm\n",
    "from models import Effnet, Swin_trm\n",
    "from args import build_opt\n",
    "import numpy as np\n",
    "import pandas as pd\n",
    "import matplotlib.pyplot as plt\n",
    "from loaders import build_loader, build_loader_new\n",
    "## args-->opt\n",
    "opt = build_opt()\n",
    "\n",
    "torch.manual_seed(42)\n",
    "np.random.seed(42)\n",
    "opt.model_name = 'efficientnet_b6'\n",
    "opt.batch_size = 32"
   ]
  },
  {
   "cell_type": "code",
   "execution_count": 2,
   "id": "51fd7292-775d-4859-af1e-428a95824ec6",
   "metadata": {},
   "outputs": [],
   "source": [
    "opt.model_name = 'swin_base_patch4_window12_384_in22k'"
   ]
  },
  {
   "cell_type": "code",
   "execution_count": 3,
   "id": "4793f53b-ca36-47a0-8358-417ee86d5936",
   "metadata": {},
   "outputs": [
    {
     "name": "stderr",
     "output_type": "stream",
     "text": [
      "/root/miniconda3/lib/python3.8/site-packages/torch/functional.py:445: UserWarning: torch.meshgrid: in an upcoming release, it will be required to pass the indexing argument. (Triggered internally at  ../aten/src/ATen/native/TensorShape.cpp:2157.)\n",
      "  return _VF.meshgrid(tensors, **kwargs)  # type: ignore[attr-defined]\n"
     ]
    },
    {
     "name": "stdout",
     "output_type": "stream",
     "text": [
      "This model‘s running loss is: 0.36087887206185854\n"
     ]
    }
   ],
   "source": [
    "## model\n",
    "## 加载模型\n",
    "model = Swin_trm(model_name=opt.model_name)\n",
    "## load ckpts\n",
    "ckpts = torch.load('../ckpts/8_30/model_best.pth')\n",
    "model_ckpts = ckpts['model']\n",
    "model.load_state_dict(model_ckpts)\n",
    "model = model.cuda()\n",
    "print('This model‘s running loss is: {}'.format(ckpts['loss']))"
   ]
  },
  {
   "cell_type": "code",
   "execution_count": 2,
   "id": "80a927ec-6800-46af-a55f-c7d1fd0a53b1",
   "metadata": {},
   "outputs": [],
   "source": [
    "## model Effient net\n",
    "## 加载模型\n",
    "model = Effnet(model_name=opt.model_name)\n",
    "## load ckpts\n",
    "ckpts = torch.load('../ckpts/8_29/model_best.pth')\n",
    "# model_ckpts = ckpts['model']\n",
    "model.load_state_dict(ckpts)\n",
    "model = model.cuda()\n",
    "# print('This model‘s running loss is: {}'.format(ckpts['loss']))"
   ]
  },
  {
   "cell_type": "code",
   "execution_count": 4,
   "id": "1d0e413f-6609-43e4-b00f-34cd5cc82cfa",
   "metadata": {},
   "outputs": [],
   "source": [
    "opt.resultdir = './result/901/'"
   ]
  },
  {
   "cell_type": "code",
   "execution_count": 5,
   "id": "226f49a5-b429-4ff3-b2fa-edc8732e4952",
   "metadata": {
    "tags": []
   },
   "outputs": [
    {
     "name": "stdout",
     "output_type": "stream",
     "text": [
      "...start predicting\n"
     ]
    },
    {
     "data": {
      "application/vnd.jupyter.widget-view+json": {
       "model_id": "ac7986aaae044149b1a21bf5fe0f1c15",
       "version_major": 2,
       "version_minor": 0
      },
      "text/plain": [
       "  0%|          | 0/125 [00:00<?, ?it/s]"
      ]
     },
     "metadata": {},
     "output_type": "display_data"
    }
   ],
   "source": [
    "## inference\n",
    "test_loader = build_loader(\n",
    "    imagedir=opt.testdir,\n",
    "    batch_size=opt.batch_size,\n",
    "    num_workers=opt.num_workers,\n",
    "    metadir=opt.test_metadir,\n",
    "    metafile=opt.test_metafile,\n",
    "    require_label=False\n",
    ")\n",
    "\n",
    "print('...start predicting')\n",
    "\n",
    "model.eval()\n",
    "to_prob = nn.Softmax(dim=1)\n",
    "with torch.no_grad():\n",
    "    imagenames, probs = list(), list()\n",
    "    for batch_idx, batch in tqdm(enumerate(test_loader), total=len(test_loader)):\n",
    "        image, imagename = batch\n",
    "        image = image.to(opt.device)\n",
    "        pred = model(image)\n",
    "        prob = to_prob(pred)\n",
    "        prob = list(prob.data.cpu().numpy())\n",
    "        imagenames += imagename\n",
    "        probs += prob\n",
    "\n",
    "with open(os.path.join(opt.resultdir, 'submission.csv'), 'w', encoding='utf8') as fp:\n",
    "    writer = csv.writer(fp)\n",
    "    writer.writerow(['imagename', 'defect_prob'])\n",
    "    for info in zip(imagenames, probs):\n",
    "        imagename, prob = info\n",
    "        writer.writerow([imagename, str(prob[1])])"
   ]
  },
  {
   "cell_type": "code",
   "execution_count": 5,
   "id": "948fafe5-3aba-4bff-b056-7ba7a6da54ed",
   "metadata": {},
   "outputs": [
    {
     "data": {
      "text/plain": [
       "'./result'"
      ]
     },
     "execution_count": 5,
     "metadata": {},
     "output_type": "execute_result"
    }
   ],
   "source": [
    "opt.resultdir"
   ]
  },
  {
   "cell_type": "code",
   "execution_count": 6,
   "id": "8fc68d15-022b-4599-aea3-f87e2faa20ff",
   "metadata": {},
   "outputs": [
    {
     "data": {
      "text/plain": [
       "4000"
      ]
     },
     "execution_count": 6,
     "metadata": {},
     "output_type": "execute_result"
    }
   ],
   "source": [
    "## test\n",
    "submit_df =pd.read_csv('./result/901/submission.csv')\n",
    "submit_df.shape[0]"
   ]
  },
  {
   "cell_type": "code",
   "execution_count": null,
   "id": "96a3c458-0f11-43e3-920a-6f8d936dfc27",
   "metadata": {},
   "outputs": [],
   "source": []
  }
 ],
 "metadata": {
  "kernelspec": {
   "display_name": "Python 3 (ipykernel)",
   "language": "python",
   "name": "python3"
  },
  "language_info": {
   "codemirror_mode": {
    "name": "ipython",
    "version": 3
   },
   "file_extension": ".py",
   "mimetype": "text/x-python",
   "name": "python",
   "nbconvert_exporter": "python",
   "pygments_lexer": "ipython3",
   "version": "3.8.10"
  }
 },
 "nbformat": 4,
 "nbformat_minor": 5
}
